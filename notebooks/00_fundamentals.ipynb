{
 "cells": [
  {
   "cell_type": "code",
   "execution_count": 6,
   "id": "f9441c35",
   "metadata": {},
   "outputs": [
    {
     "data": {
      "text/plain": [
       "'2.8.0+cu128'"
      ]
     },
     "execution_count": 6,
     "metadata": {},
     "output_type": "execute_result"
    }
   ],
   "source": [
    "import torch\n",
    "torch.__version__"
   ]
  },
  {
   "cell_type": "markdown",
   "id": "56cae68f",
   "metadata": {},
   "source": [
    "# Qué es un tensor?\n",
    "\n",
    "Estructura de datos que generaliza los conceptos de escalares, vectores y matrices. Puede describirse como un arreglo multidimensional de números que puede tener diferentes dimensiones (llamadas rangos). Los tensores son fundamentales en el aprendizaje automático y matemáticas, especialmente en bibliotecas como TensorFlow.\n",
    "\n",
    "## Analogía con la vida real\n",
    "\n",
    "- Un **escalar** es un cajón vacío (un solo número).\n",
    "- Un **vector** es una fila de cajones en una dimensión (una lista de números).\n",
    "- Una **matriz** es como una estantería con filas y columnas de cajones (una tabla de números).\n",
    "- Un **tensor** es un armario con múltiples niveles y dimensiones: puedes tener un cajón en un piso, un estante, o en cualquier parte del armario.\n",
    "\n",
    "## Ejemplos de tensores\n",
    "\n",
    "- Una imagen en blanco y negro se representa como un **tensor 2D** (pixeles: filas x columnas).\n",
    "- Una imagen a color se representa como un **tensor 3D** (filas x columnas x canales RGB).\n",
    "TensorFlow utiliza estos tensores para realizar cálculos matemáticos optimizados."
   ]
  },
  {
   "cell_type": "markdown",
   "id": "60fc2c08",
   "metadata": {},
   "source": [
    "# Tabla de contenido\n",
    "- ## 1 - Crear Tensores\n",
    "- ## 2 - Rango/Dimension de los Tensores\n",
    "- ## 3 - Tamaño de un Tensor\n",
    "- ## 4 - Cambiando dimension de un Tensor\n",
    "- ## 5 - Slicing de Tensors\n"
   ]
  },
  {
   "cell_type": "markdown",
   "id": "98681e87",
   "metadata": {},
   "source": [
    "# 1 - Crear Tensors"
   ]
  },
  {
   "cell_type": "code",
   "execution_count": 17,
   "id": "db80bfca",
   "metadata": {},
   "outputs": [
    {
     "name": "stdout",
     "output_type": "stream",
     "text": [
      "Integer tensor: 324, dtype: torch.int32\n",
      "Floating tensor: 3.566999912261963, dtype: torch.float32\n"
     ]
    }
   ],
   "source": [
    "number = torch.tensor(324, dtype=torch.int32)\n",
    "floating = torch.tensor(3.567, dtype=torch.float32)\n",
    "\n",
    "print(f\"Integer tensor: {number}, dtype: {number.dtype}\")\n",
    "print(f\"Floating tensor: {floating}, dtype: {floating.dtype}\")"
   ]
  },
  {
   "cell_type": "markdown",
   "id": "ec4203f4",
   "metadata": {},
   "source": [
    "# 2 - Rank/Dimension de Tensors"
   ]
  },
  {
   "cell_type": "markdown",
   "id": "cade0f6d",
   "metadata": {},
   "source": [
    "El rango ***NO*** hace referencia al numero de elementos del tensor, sino que al tipo de elementos internos.\n",
    "\n",
    "- Un **tensor escalar** tiene rango 0.\n",
    "- Un **tensor vector** tiene rango 1.\n",
    "- Una **matriz** tiene rango 2.\n",
    "\n",
    "**Para rangos mayores se toma en cuenta en cuenta el *número de niveles de anidación* (visualmente observar el cambio de colores de corchetes), no el número de elementos.\n",
    "\n",
    "## Determinar ndim3 y ndim4\n",
    "\n",
    "- En rank3 tiene un DOS niveles de anidacion, por lo que su rango superior de 3.\n",
    "- En rank4 tiene un TRES niveles de anidacion, por lo que su rango superior de 4.\n",
    "- En rank4_v2 tiene un TRES niveles de anidacion, por lo que su rango superior de 4. Aquí puede llegar a ser confuso porque tenemos 4 elementos principales, sin embargo, para calcular rangos superiores solo necesitamos los NIVELES DE ANIDACION."
   ]
  },
  {
   "cell_type": "code",
   "execution_count": null,
   "id": "d1cf7904",
   "metadata": {},
   "outputs": [],
   "source": [
    "rank0_tensor = torch.tensor(3)\n",
    "rank1_tensor = torch.tensor([3])\n",
    "rank2_tensor = torch.tensor([\n",
    "    [1, 2], \n",
    "    [3, 4]\n",
    "])\n",
    "rank2_tensor_v2 = torch.tensor([\n",
    "    [1, 2], \n",
    "    [4, 5], \n",
    "    [7, 8]\n",
    "])\n",
    "rank3_tensor = torch.tensor([\n",
    "    [[1, 2, 3], [4, 5, 6]],\n",
    "    [[7, 8, 9], [10, 11, 12]]\n",
    "])\n",
    "rank4_tensor = torch.tensor([\n",
    "    [[[1], [3]], [[5], [7]]],\n",
    "    [[[2], [4]], [[6], [8]]]\n",
    "])\n",
    "rank4_tensor_v2 = torch.tensor([\n",
    "    [[[1], [5]], [[9], [13]]],\n",
    "    [[[2], [6]], [[10], [14]]],\n",
    "    [[[3], [7]], [[11], [15]]],\n",
    "    [[[4], [8]], [[12], [16]]]\n",
    "])"
   ]
  },
  {
   "cell_type": "code",
   "execution_count": 22,
   "id": "a1c56904",
   "metadata": {},
   "outputs": [
    {
     "name": "stdout",
     "output_type": "stream",
     "text": [
      "Tensor ejemplo 1: 0\n",
      "Tensor ejemplo 2: 1\n",
      "Tensor ejemplo 3: 2\n",
      "Tensor ejemplo 4: 2\n",
      "Tensor ejemplo 5: 3\n",
      "Tensor ejemplo 6: 4\n",
      "Tensor ejemplo 7: 4\n"
     ]
    }
   ],
   "source": [
    "print(f'Tensor ejemplo 1: {rank0_tensor.ndim}')\n",
    "print(f'Tensor ejemplo 2: {rank1_tensor.ndim}')\n",
    "print(f'Tensor ejemplo 3: {rank2_tensor.ndim}')\n",
    "print(f'Tensor ejemplo 4: {rank2_tensor_v2.ndim}')\n",
    "print(f'Tensor ejemplo 5: {rank3_tensor.ndim}')\n",
    "print(f'Tensor ejemplo 6: {rank4_tensor.ndim}')\n",
    "print(f'Tensor ejemplo 7: {rank4_tensor_v2.ndim}')"
   ]
  },
  {
   "cell_type": "markdown",
   "id": "dbc6ff4e",
   "metadata": {},
   "source": [
    "# 3 - Forma de un Tensor"
   ]
  },
  {
   "cell_type": "markdown",
   "id": "746e16ea",
   "metadata": {},
   "source": [
    "La forma de un tensor si hace referencia a la cantidad de elementos internos.\n",
    "\n",
    "- Un **tensor escalar** tiene forma vacía.\n",
    "- Un **tensor vector** tiene forma (1,).\n",
    "- Una **matriz** tiene forma (#filas,#columnas).\n",
    "\n",
    "Para la forma de tensores de rangos mayores se toma en cuenta en cuenta *los elementos en cada nivel de anidación partiendo del mas externo al interno* (visualmente observar el cambio de colores de corchetes)\n",
    "\n",
    "## Determinar forma de tensores con rangos/dimensiones superiores\n",
    "\n",
    "- En rank3 tiene 2 elementos en su primer nivel y 2 elementos en su segundo nivel y 3 elementos en su tercer nivel. (2, 2, 3)\n",
    "- En rank4 tiene 2 elementos en su primer nivel y 2 elementos en su segundo nivel, 2 elementos en su tercer nivel y 1 elemento en su cuarto nivel. (2, 2, 2, 1)\n",
    "- En rank4_v2 tiene 4 elementos en su primer nivel y 2 elementos en su segundo nivel, 2 elementos en su tercer nivel y 1 elemento en su cuarto nivel. (4, 2, 2, 1)"
   ]
  },
  {
   "cell_type": "code",
   "execution_count": 23,
   "id": "42966d7b",
   "metadata": {},
   "outputs": [
    {
     "name": "stdout",
     "output_type": "stream",
     "text": [
      "Tensor ejemplo 1: torch.Size([])\n",
      "Tensor ejemplo 2: torch.Size([1])\n",
      "Tensor ejemplo 3: torch.Size([2, 2])\n",
      "Tensor ejemplo 4: torch.Size([3, 2])\n",
      "Tensor ejemplo 5: torch.Size([2, 2, 3])\n",
      "Tensor ejemplo 6: torch.Size([2, 2, 2, 1])\n",
      "Tensor ejemplo 7: torch.Size([4, 2, 2, 1])\n"
     ]
    }
   ],
   "source": [
    "print(f'Tensor ejemplo 1: {rank0_tensor.shape}')\n",
    "print(f'Tensor ejemplo 2: {rank1_tensor.shape}')\n",
    "print(f'Tensor ejemplo 3: {rank2_tensor.shape}')\n",
    "print(f'Tensor ejemplo 4: {rank2_tensor_v2.shape}')\n",
    "print(f'Tensor ejemplo 5: {rank3_tensor.shape}')\n",
    "print(f'Tensor ejemplo 6: {rank4_tensor.shape}')\n",
    "print(f'Tensor ejemplo 7: {rank4_tensor_v2.shape}')"
   ]
  },
  {
   "cell_type": "markdown",
   "id": "9424dd8d",
   "metadata": {},
   "source": [
    "# 4 - Cambiando dimension de un Tensor"
   ]
  },
  {
   "cell_type": "markdown",
   "id": "831b9993",
   "metadata": {},
   "source": [
    "El numero de datos del nuevo tensor debe ser igual al tensor original.\n",
    "\n",
    "¡¡¡No confundir el número de datos con el rango o dimensión!!!"
   ]
  },
  {
   "cell_type": "code",
   "execution_count": 24,
   "id": "07403f40",
   "metadata": {},
   "outputs": [],
   "source": [
    "# crea un arreglo de [1,2,3] tensor llenos de 1\n",
    "tensor1 = torch.ones([1,2,3])\n",
    "# cambiar la dimension a [2,3,1]\n",
    "tensor2 = torch.reshape(tensor1, [2,3,1])\n",
    "# cambiar la dimension a [1,6,1]\n",
    "tensor3 = torch.reshape(tensor1, [1,6,1])\n",
    "# -1 permite calcular el tamaño de la dimension en ese lugar\n",
    "# this will reshape the tensor to [3,3]\n",
    "tensor4 = torch.reshape(tensor2, [3, -1])"
   ]
  },
  {
   "cell_type": "code",
   "execution_count": 26,
   "id": "80d23ba6",
   "metadata": {},
   "outputs": [
    {
     "name": "stdout",
     "output_type": "stream",
     "text": [
      "Tensor 1: \n",
      "tensor([[[1., 1., 1.],\n",
      "         [1., 1., 1.]]])\n",
      "Tensor 1 Forma: torch.Size([1, 2, 3]) y Dim: 3 \n",
      "Tensor 2: \n",
      "tensor([[[1.],\n",
      "         [1.],\n",
      "         [1.]],\n",
      "\n",
      "        [[1.],\n",
      "         [1.],\n",
      "         [1.]]])\n",
      "Tensor 2 Forma: torch.Size([2, 3, 1]) y Dim: 3 \n",
      "Tensor 3: \n",
      "tensor([[[1.],\n",
      "         [1.],\n",
      "         [1.],\n",
      "         [1.],\n",
      "         [1.],\n",
      "         [1.]]])\n",
      "Tensor 3 Forma: torch.Size([1, 6, 1]) y Dim: 3 \n",
      "Tensor 4: \n",
      "tensor([[1., 1.],\n",
      "        [1., 1.],\n",
      "        [1., 1.]])\n",
      "Tensor 4 Forma: torch.Size([3, 2]) y Dim: 2 \n"
     ]
    }
   ],
   "source": [
    "print(f'Tensor 1: \\n{tensor1}')\n",
    "print(f'Tensor 1 Forma: {tensor1.shape} y Dim: {tensor1.ndim} ')\n",
    "print(f'Tensor 2: \\n{tensor2}')\n",
    "print(f'Tensor 2 Forma: {tensor2.shape} y Dim: {tensor2.ndim} ')\n",
    "print(f'Tensor 3: \\n{tensor3}')\n",
    "print(f'Tensor 3 Forma: {tensor3.shape} y Dim: {tensor3.ndim} ')\n",
    "print(f'Tensor 4: \\n{tensor4}')\n",
    "print(f'Tensor 4 Forma: {tensor4.shape} y Dim: {tensor4.ndim} ')"
   ]
  },
  {
   "cell_type": "markdown",
   "id": "6fbb33e1",
   "metadata": {},
   "source": [
    "# 5 - Slicing de Tensors"
   ]
  },
  {
   "cell_type": "code",
   "execution_count": 28,
   "id": "12716689",
   "metadata": {},
   "outputs": [
    {
     "name": "stdout",
     "output_type": "stream",
     "text": [
      "Rango: 2\n",
      "Dimensión: torch.Size([4, 5])\n"
     ]
    }
   ],
   "source": [
    "# Crear un tensor de 2D\n",
    "matrix = [[1,2,3,4,5],\n",
    "          [6,7,8,9,10],\n",
    "          [11,12,13,14,15],\n",
    "          [16,17,18,19,20]]\n",
    "\n",
    "tensor = torch.tensor(matrix, dtype=torch.int32)\n",
    "print(f'Rango: {tensor.ndim}')\n",
    "print(f'Dimensión: {tensor.shape}')"
   ]
  },
  {
   "cell_type": "code",
   "execution_count": 30,
   "id": "856de519",
   "metadata": {},
   "outputs": [
    {
     "name": "stdout",
     "output_type": "stream",
     "text": [
      "tensor(3, dtype=torch.int32)\n",
      "tensor([1, 2, 3, 4, 5], dtype=torch.int32)\n",
      "tensor([ 1,  6, 11, 16], dtype=torch.int32)\n",
      "tensor([[ 6,  7,  8,  9, 10],\n",
      "        [16, 17, 18, 19, 20]], dtype=torch.int32)\n",
      "tensor([ 6, 11], dtype=torch.int32)\n"
     ]
    }
   ],
   "source": [
    "# seleccionar el 3er elementos de la primera fila\n",
    "three = tensor[0,2]\n",
    "print(three)\n",
    "\n",
    "# seleccionar la primera fila\n",
    "row1 = tensor[0]\n",
    "print(row1)\n",
    "\n",
    "# seleccionar los elementos de la primera columna\n",
    "column1 = tensor[:, 0]\n",
    "print(column1)\n",
    "\n",
    "# selecciona la segunda fila y luego las filas de 2 en 2\n",
    "row_2_and_4 = tensor[1::2]\n",
    "print(row_2_and_4)\n",
    "\n",
    "# selecciona la primera columna desde la fila 2 hasta la 4, 4 no es incluiddo\n",
    "column_1_in_row_2_and_3 = tensor[1:3, 0]\n",
    "print(column_1_in_row_2_and_3)"
   ]
  }
 ],
 "metadata": {
  "kernelspec": {
   "display_name": "env",
   "language": "python",
   "name": "python3"
  },
  "language_info": {
   "codemirror_mode": {
    "name": "ipython",
    "version": 3
   },
   "file_extension": ".py",
   "mimetype": "text/x-python",
   "name": "python",
   "nbconvert_exporter": "python",
   "pygments_lexer": "ipython3",
   "version": "3.10.12"
  }
 },
 "nbformat": 4,
 "nbformat_minor": 5
}
